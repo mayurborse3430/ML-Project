{
 "cells": [
  {
   "cell_type": "markdown",
   "metadata": {
    "colab_type": "text",
    "id": "view-in-github"
   },
   "source": [
    "<a href=\"https://colab.research.google.com/github/dibya-pati/seqPrediction/blob/master/characterPrediction.ipynb\" target=\"_parent\"><img src=\"https://colab.research.google.com/assets/colab-badge.svg\" alt=\"Open In Colab\"/></a>"
   ]
  },
  {
   "cell_type": "markdown",
   "metadata": {
    "colab_type": "text",
    "id": "tbHKuVqxJuPk"
   },
   "source": [
    "we will develop a simple LSTM network to learn sequences of characters from Alice in Wonderland. In the next section we will use this model to generate new sequences of characters.\n",
    "\n",
    "Let’s start off by importing the classes and functions we intend to use to train our model."
   ]
  },
  {
   "cell_type": "code",
   "execution_count": 3,
   "metadata": {
    "colab": {},
    "colab_type": "code",
    "id": "KeqN1p7OJtcP"
   },
   "outputs": [],
   "source": [
    "import numpy\n",
    "import sys\n",
    "from tensorflow.keras.models import Sequential\n",
    "from tensorflow.keras.layers import Dense\n",
    "from tensorflow.keras.layers import Dropout\n",
    "from tensorflow.keras.layers import LSTM\n",
    "from tensorflow.keras.callbacks import ModelCheckpoint\n",
    "from tensorflow.keras.utils import to_categorical\n",
    "import tensorflow as tf"
   ]
  },
  {
   "cell_type": "markdown",
   "metadata": {
    "colab_type": "text",
    "id": "PiuJD8oeK1Us"
   },
   "source": [
    "Next, we need to load the ASCII text for the book into memory and convert all of the characters to lowercase to reduce the vocabulary that the network must learn."
   ]
  },
  {
   "cell_type": "code",
   "execution_count": 4,
   "metadata": {
    "colab": {},
    "colab_type": "code",
    "id": "dXUa39y6K2UX"
   },
   "outputs": [
    {
     "ename": "UnicodeDecodeError",
     "evalue": "'charmap' codec can't decode byte 0x9d in position 8118: character maps to <undefined>",
     "output_type": "error",
     "traceback": [
      "\u001b[1;31m---------------------------------------------------------------------------\u001b[0m",
      "\u001b[1;31mUnicodeDecodeError\u001b[0m                        Traceback (most recent call last)",
      "\u001b[1;32m<ipython-input-4-e9caa9cd8b78>\u001b[0m in \u001b[0;36m<module>\u001b[1;34m\u001b[0m\n\u001b[0;32m      1\u001b[0m \u001b[1;31m# load ascii text and covert to lowercase\u001b[0m\u001b[1;33m\u001b[0m\u001b[1;33m\u001b[0m\u001b[1;33m\u001b[0m\u001b[0m\n\u001b[0;32m      2\u001b[0m \u001b[0mfilename\u001b[0m \u001b[1;33m=\u001b[0m \u001b[1;34m\"wonderland.txt\"\u001b[0m\u001b[1;33m\u001b[0m\u001b[1;33m\u001b[0m\u001b[0m\n\u001b[1;32m----> 3\u001b[1;33m \u001b[0mraw_text\u001b[0m \u001b[1;33m=\u001b[0m \u001b[0mopen\u001b[0m\u001b[1;33m(\u001b[0m\u001b[0mfilename\u001b[0m\u001b[1;33m)\u001b[0m\u001b[1;33m.\u001b[0m\u001b[0mread\u001b[0m\u001b[1;33m(\u001b[0m\u001b[1;33m)\u001b[0m\u001b[1;33m\u001b[0m\u001b[1;33m\u001b[0m\u001b[0m\n\u001b[0m\u001b[0;32m      4\u001b[0m \u001b[0mraw_text\u001b[0m \u001b[1;33m=\u001b[0m \u001b[0mraw_text\u001b[0m\u001b[1;33m.\u001b[0m\u001b[0mlower\u001b[0m\u001b[1;33m(\u001b[0m\u001b[1;33m)\u001b[0m\u001b[1;33m\u001b[0m\u001b[1;33m\u001b[0m\u001b[0m\n",
      "\u001b[1;32m~\\Anaconda3\\envs\\tensorflow_cpu\\lib\\encodings\\cp1252.py\u001b[0m in \u001b[0;36mdecode\u001b[1;34m(self, input, final)\u001b[0m\n\u001b[0;32m     21\u001b[0m \u001b[1;32mclass\u001b[0m \u001b[0mIncrementalDecoder\u001b[0m\u001b[1;33m(\u001b[0m\u001b[0mcodecs\u001b[0m\u001b[1;33m.\u001b[0m\u001b[0mIncrementalDecoder\u001b[0m\u001b[1;33m)\u001b[0m\u001b[1;33m:\u001b[0m\u001b[1;33m\u001b[0m\u001b[1;33m\u001b[0m\u001b[0m\n\u001b[0;32m     22\u001b[0m     \u001b[1;32mdef\u001b[0m \u001b[0mdecode\u001b[0m\u001b[1;33m(\u001b[0m\u001b[0mself\u001b[0m\u001b[1;33m,\u001b[0m \u001b[0minput\u001b[0m\u001b[1;33m,\u001b[0m \u001b[0mfinal\u001b[0m\u001b[1;33m=\u001b[0m\u001b[1;32mFalse\u001b[0m\u001b[1;33m)\u001b[0m\u001b[1;33m:\u001b[0m\u001b[1;33m\u001b[0m\u001b[1;33m\u001b[0m\u001b[0m\n\u001b[1;32m---> 23\u001b[1;33m         \u001b[1;32mreturn\u001b[0m \u001b[0mcodecs\u001b[0m\u001b[1;33m.\u001b[0m\u001b[0mcharmap_decode\u001b[0m\u001b[1;33m(\u001b[0m\u001b[0minput\u001b[0m\u001b[1;33m,\u001b[0m\u001b[0mself\u001b[0m\u001b[1;33m.\u001b[0m\u001b[0merrors\u001b[0m\u001b[1;33m,\u001b[0m\u001b[0mdecoding_table\u001b[0m\u001b[1;33m)\u001b[0m\u001b[1;33m[\u001b[0m\u001b[1;36m0\u001b[0m\u001b[1;33m]\u001b[0m\u001b[1;33m\u001b[0m\u001b[1;33m\u001b[0m\u001b[0m\n\u001b[0m\u001b[0;32m     24\u001b[0m \u001b[1;33m\u001b[0m\u001b[0m\n\u001b[0;32m     25\u001b[0m \u001b[1;32mclass\u001b[0m \u001b[0mStreamWriter\u001b[0m\u001b[1;33m(\u001b[0m\u001b[0mCodec\u001b[0m\u001b[1;33m,\u001b[0m\u001b[0mcodecs\u001b[0m\u001b[1;33m.\u001b[0m\u001b[0mStreamWriter\u001b[0m\u001b[1;33m)\u001b[0m\u001b[1;33m:\u001b[0m\u001b[1;33m\u001b[0m\u001b[1;33m\u001b[0m\u001b[0m\n",
      "\u001b[1;31mUnicodeDecodeError\u001b[0m: 'charmap' codec can't decode byte 0x9d in position 8118: character maps to <undefined>"
     ]
    }
   ],
   "source": [
    "# load ascii text and covert to lowercase\n",
    "filename = \"wonderland.txt\"\n",
    "raw_text = open(filename).read()\n",
    "raw_text = raw_text.lower()"
   ]
  },
  {
   "cell_type": "markdown",
   "metadata": {
    "colab_type": "text",
    "id": "bqWTh9X4NAV5"
   },
   "source": [
    "Now that the book is loaded, we must prepare the data for modeling by the neural network. We cannot model the characters directly, instead we must convert the characters to integers.\n",
    "\n",
    "We can do this easily by first creating a set of all of the distinct characters in the book, then creating a map of each character to a unique integer."
   ]
  },
  {
   "cell_type": "code",
   "execution_count": 0,
   "metadata": {
    "colab": {},
    "colab_type": "code",
    "id": "amPMvYIbNBzU"
   },
   "outputs": [],
   "source": [
    "# create mapping of unique chars to integers\n",
    "chars = sorted(list(set(raw_text)))\n",
    "char_to_int = dict((c, i) for i, c in enumerate(chars))"
   ]
  },
  {
   "cell_type": "code",
   "execution_count": 5,
   "metadata": {
    "colab": {
     "base_uri": "https://localhost:8080/",
     "height": 832
    },
    "colab_type": "code",
    "id": "IcDg390ZNNLM",
    "outputId": "31629035-c313-402f-ed51-b2d4d89bad41"
   },
   "outputs": [
    {
     "data": {
      "text/plain": [
       "{'\\n': 0,\n",
       " ' ': 1,\n",
       " '!': 2,\n",
       " '(': 3,\n",
       " ')': 4,\n",
       " '*': 5,\n",
       " ',': 6,\n",
       " '-': 7,\n",
       " '.': 8,\n",
       " '0': 9,\n",
       " '3': 10,\n",
       " ':': 11,\n",
       " ';': 12,\n",
       " '?': 13,\n",
       " '[': 14,\n",
       " ']': 15,\n",
       " '_': 16,\n",
       " 'a': 17,\n",
       " 'b': 18,\n",
       " 'c': 19,\n",
       " 'd': 20,\n",
       " 'e': 21,\n",
       " 'f': 22,\n",
       " 'g': 23,\n",
       " 'h': 24,\n",
       " 'i': 25,\n",
       " 'j': 26,\n",
       " 'k': 27,\n",
       " 'l': 28,\n",
       " 'm': 29,\n",
       " 'n': 30,\n",
       " 'o': 31,\n",
       " 'p': 32,\n",
       " 'q': 33,\n",
       " 'r': 34,\n",
       " 's': 35,\n",
       " 't': 36,\n",
       " 'u': 37,\n",
       " 'v': 38,\n",
       " 'w': 39,\n",
       " 'x': 40,\n",
       " 'y': 41,\n",
       " 'z': 42,\n",
       " '‘': 43,\n",
       " '’': 44,\n",
       " '“': 45,\n",
       " '”': 46}"
      ]
     },
     "execution_count": 5,
     "metadata": {
      "tags": []
     },
     "output_type": "execute_result"
    }
   ],
   "source": [
    "char_to_int"
   ]
  },
  {
   "cell_type": "markdown",
   "metadata": {
    "colab_type": "text",
    "id": "PysLUUz3Ng6f"
   },
   "source": [
    "You can see that there may be some characters that we could remove to further clean up the dataset that will reduce the vocabulary and may improve the modeling process.\n",
    "\n",
    "Now that the book has been loaded and the mapping prepared, we can summarize the dataset."
   ]
  },
  {
   "cell_type": "code",
   "execution_count": 6,
   "metadata": {
    "colab": {
     "base_uri": "https://localhost:8080/",
     "height": 52
    },
    "colab_type": "code",
    "id": "ZYfPOZFwNj05",
    "outputId": "21163c1c-603f-4675-838e-1276e30c5af9"
   },
   "outputs": [
    {
     "name": "stdout",
     "output_type": "stream",
     "text": [
      "Total Characters:  144422\n",
      "Total Vocab:  47\n"
     ]
    }
   ],
   "source": [
    "n_chars = len(raw_text)\n",
    "n_vocab = len(chars)\n",
    "print (\"Total Characters: \", n_chars)\n",
    "print (\"Total Vocab: \", n_vocab)"
   ]
  },
  {
   "cell_type": "markdown",
   "metadata": {
    "colab_type": "text",
    "id": "X-noVoE5mS5v"
   },
   "source": [
    "As we split up the book into these sequences, we convert the characters to integers using our lookup table we prepared earlier."
   ]
  },
  {
   "cell_type": "code",
   "execution_count": 7,
   "metadata": {
    "colab": {
     "base_uri": "https://localhost:8080/",
     "height": 35
    },
    "colab_type": "code",
    "id": "-sKHWn1EmT7X",
    "outputId": "7e90a496-5b36-4d7e-8dcd-2a716650a26a"
   },
   "outputs": [
    {
     "name": "stdout",
     "output_type": "stream",
     "text": [
      "Total Patterns:  144322\n"
     ]
    }
   ],
   "source": [
    "# prepare the dataset of input to output pairs encoded as integers\n",
    "seq_length = 100\n",
    "dataX = []\n",
    "dataY = []\n",
    "for i in range(0, n_chars - seq_length, 1):\n",
    "\tseq_in = raw_text[i:i + seq_length]\n",
    "\tseq_out = raw_text[i + seq_length]\n",
    "\tdataX.append([char_to_int[char] for char in seq_in])\n",
    "\tdataY.append(char_to_int[seq_out])\n",
    "n_patterns = len(dataX)\n",
    "print (\"Total Patterns: \", n_patterns)"
   ]
  },
  {
   "cell_type": "markdown",
   "metadata": {
    "colab_type": "text",
    "id": "QpTPcy_Umw5u"
   },
   "source": [
    "First we must transform the list of input sequences into the form [samples, time steps, features] expected by an LSTM network.\n",
    "\n",
    "Next we need to rescale the integers to the range 0-to-1 to make the patterns easier to learn by the LSTM network that uses the sigmoid activation function by default.\n",
    "\n",
    "Finally, we need to convert the output patterns (single characters converted to integers) into a one hot encoding. This is so that we can configure the network to predict the probability of each of the 47 different characters in the vocabulary (an easier representation) rather than trying to force it to predict precisely the next character. Each y value is converted into a sparse vector with a length of 47, full of zeros except with a 1 in the column for the letter (integer) that the pattern represents."
   ]
  },
  {
   "cell_type": "code",
   "execution_count": 0,
   "metadata": {
    "colab": {},
    "colab_type": "code",
    "id": "UCdKD0RGmx9O"
   },
   "outputs": [],
   "source": [
    "# reshape X to be [samples, time steps, features]\n",
    "X = numpy.reshape(dataX, (n_patterns, seq_length, 1))\n",
    "# normalize\n",
    "X = X / float(n_vocab)\n",
    "# one hot encode the output variable\n",
    "y = to_categorical(dataY)"
   ]
  },
  {
   "cell_type": "markdown",
   "metadata": {
    "colab_type": "text",
    "id": "_mzbquHNm9Zl"
   },
   "source": [
    "We can now define our LSTM model. Here we define a single hidden LSTM layer with 256 memory units. The network uses dropout with a probability of 20. The output layer is a Dense layer using the softmax activation function to output a probability prediction for each of the 47 characters between 0 and 1.\n",
    "\n",
    "The problem is really a single character classification problem with 47 classes and as such is defined as optimizing the log loss (cross entropy), here using the ADAM optimization algorithm for speed."
   ]
  },
  {
   "cell_type": "code",
   "execution_count": 0,
   "metadata": {
    "colab": {},
    "colab_type": "code",
    "id": "j92qyDd0m-Wu"
   },
   "outputs": [],
   "source": [
    "# define the LSTM model\n",
    "model = Sequential()\n",
    "model.add(LSTM(256, input_shape=(X.shape[1], X.shape[2])))\n",
    "model.add(Dropout(0.2))\n",
    "model.add(Dense(y.shape[1], activation='softmax'))\n",
    "model.compile(loss='categorical_crossentropy', optimizer='adam')"
   ]
  },
  {
   "cell_type": "markdown",
   "metadata": {
    "colab_type": "text",
    "id": "D7TwbcAunOYz"
   },
   "source": [
    "There is no test dataset. We are modeling the entire training dataset to learn the probability of each character in a sequence.\n",
    "\n",
    "We are not interested in the most accurate (classification accuracy) model of the training dataset. This would be a model that predicts each character in the training dataset perfectly. Instead we are interested in a generalization of the dataset that minimizes the chosen loss function. We are seeking a balance between generalization and overfitting but short of memorization.\n",
    "\n",
    "The network is slow to train (about 300 seconds per epoch on an Nvidia K520 GPU). Because of the slowness and because of our optimization requirements, we will use model checkpointing to record all of the network weights to file each time an improvement in loss is observed at the end of the epoch. We will use the best set of weights (lowest loss) to instantiate our generative model in the next section."
   ]
  },
  {
   "cell_type": "code",
   "execution_count": 0,
   "metadata": {
    "colab": {},
    "colab_type": "code",
    "id": "W-UJ85YFnPJG"
   },
   "outputs": [],
   "source": [
    "# define the checkpoint\n",
    "filepath=\"weights-improvement-{epoch:02d}-{loss:.4f}.hdf5\"\n",
    "checkpoint = ModelCheckpoint(filepath, monitor='loss', verbose=1, save_best_only=True, mode='min')\n",
    "callbacks_list = [checkpoint]"
   ]
  },
  {
   "cell_type": "markdown",
   "metadata": {
    "colab_type": "text",
    "id": "VkUyowm9nSas"
   },
   "source": [
    "We can now fit our model to the data. Here we use a modest number of 20 epochs and a large batch size of 128 patterns."
   ]
  },
  {
   "cell_type": "code",
   "execution_count": 11,
   "metadata": {
    "colab": {
     "base_uri": "https://localhost:8080/",
     "height": 1441
    },
    "colab_type": "code",
    "id": "L6OKHT5-nTBh",
    "outputId": "1bd790de-be4b-46da-8d5c-63ba3e522cd5"
   },
   "outputs": [
    {
     "name": "stdout",
     "output_type": "stream",
     "text": [
      "Epoch 1/20\n",
      "144256/144322 [============================>.] - ETA: 0s - loss: 3.0022\n",
      "Epoch 00001: loss improved from inf to 3.00208, saving model to weights-improvement-01-3.0021.hdf5\n",
      "144322/144322 [==============================] - 323s 2ms/step - loss: 3.0021\n",
      "Epoch 2/20\n",
      "144256/144322 [============================>.] - ETA: 0s - loss: 2.8351\n",
      "Epoch 00002: loss improved from 3.00208 to 2.83505, saving model to weights-improvement-02-2.8350.hdf5\n",
      "144322/144322 [==============================] - 320s 2ms/step - loss: 2.8350\n",
      "Epoch 3/20\n",
      "144256/144322 [============================>.] - ETA: 0s - loss: 2.7509\n",
      "Epoch 00003: loss improved from 2.83505 to 2.75083, saving model to weights-improvement-03-2.7508.hdf5\n",
      "144322/144322 [==============================] - 322s 2ms/step - loss: 2.7508\n",
      "Epoch 4/20\n",
      "144256/144322 [============================>.] - ETA: 0s - loss: 2.6753\n",
      "Epoch 00004: loss improved from 2.75083 to 2.67527, saving model to weights-improvement-04-2.6753.hdf5\n",
      "144322/144322 [==============================] - 328s 2ms/step - loss: 2.6753\n",
      "Epoch 5/20\n",
      "144256/144322 [============================>.] - ETA: 0s - loss: 2.6116\n",
      "Epoch 00005: loss improved from 2.67527 to 2.61167, saving model to weights-improvement-05-2.6117.hdf5\n",
      "144322/144322 [==============================] - 328s 2ms/step - loss: 2.6117\n",
      "Epoch 6/20\n",
      "144256/144322 [============================>.] - ETA: 0s - loss: 2.5538\n",
      "Epoch 00006: loss improved from 2.61167 to 2.55384, saving model to weights-improvement-06-2.5538.hdf5\n",
      "144322/144322 [==============================] - 328s 2ms/step - loss: 2.5538\n",
      "Epoch 7/20\n",
      "144256/144322 [============================>.] - ETA: 0s - loss: 2.4964\n",
      "Epoch 00007: loss improved from 2.55384 to 2.49646, saving model to weights-improvement-07-2.4965.hdf5\n",
      "144322/144322 [==============================] - 328s 2ms/step - loss: 2.4965\n",
      "Epoch 8/20\n",
      "144256/144322 [============================>.] - ETA: 0s - loss: 2.4427\n",
      "Epoch 00008: loss improved from 2.49646 to 2.44273, saving model to weights-improvement-08-2.4427.hdf5\n",
      "144322/144322 [==============================] - 327s 2ms/step - loss: 2.4427\n",
      "Epoch 9/20\n",
      "144256/144322 [============================>.] - ETA: 0s - loss: 2.3926\n",
      "Epoch 00009: loss improved from 2.44273 to 2.39253, saving model to weights-improvement-09-2.3925.hdf5\n",
      "144322/144322 [==============================] - 328s 2ms/step - loss: 2.3925\n",
      "Epoch 10/20\n",
      "144256/144322 [============================>.] - ETA: 0s - loss: 2.3464\n",
      "Epoch 00010: loss improved from 2.39253 to 2.34633, saving model to weights-improvement-10-2.3463.hdf5\n",
      "144322/144322 [==============================] - 328s 2ms/step - loss: 2.3463\n",
      "Epoch 11/20\n",
      "144256/144322 [============================>.] - ETA: 0s - loss: 2.3788\n",
      "Epoch 00011: loss did not improve from 2.34633\n",
      "144322/144322 [==============================] - 327s 2ms/step - loss: 2.3789\n",
      "Epoch 12/20\n",
      "144256/144322 [============================>.] - ETA: 0s - loss: 2.3169\n",
      "Epoch 00012: loss improved from 2.34633 to 2.31691, saving model to weights-improvement-12-2.3169.hdf5\n",
      "144322/144322 [==============================] - 328s 2ms/step - loss: 2.3169\n",
      "Epoch 13/20\n",
      "144256/144322 [============================>.] - ETA: 0s - loss: 2.2637\n",
      "Epoch 00013: loss improved from 2.31691 to 2.26372, saving model to weights-improvement-13-2.2637.hdf5\n",
      "144322/144322 [==============================] - 332s 2ms/step - loss: 2.2637\n",
      "Epoch 14/20\n",
      "144256/144322 [============================>.] - ETA: 0s - loss: 2.2248\n",
      "Epoch 00014: loss improved from 2.26372 to 2.22476, saving model to weights-improvement-14-2.2248.hdf5\n",
      "144322/144322 [==============================] - 332s 2ms/step - loss: 2.2248\n",
      "Epoch 15/20\n",
      "144256/144322 [============================>.] - ETA: 0s - loss: 2.1944\n",
      "Epoch 00015: loss improved from 2.22476 to 2.19434, saving model to weights-improvement-15-2.1943.hdf5\n",
      "144322/144322 [==============================] - 331s 2ms/step - loss: 2.1943\n",
      "Epoch 16/20\n",
      "144256/144322 [============================>.] - ETA: 0s - loss: 2.1580\n",
      "Epoch 00016: loss improved from 2.19434 to 2.15793, saving model to weights-improvement-16-2.1579.hdf5\n",
      "144322/144322 [==============================] - 329s 2ms/step - loss: 2.1579\n",
      "Epoch 17/20\n",
      "144256/144322 [============================>.] - ETA: 0s - loss: 2.1212\n",
      "Epoch 00017: loss improved from 2.15793 to 2.12116, saving model to weights-improvement-17-2.1212.hdf5\n",
      "144322/144322 [==============================] - 328s 2ms/step - loss: 2.1212\n",
      "Epoch 18/20\n",
      "144256/144322 [============================>.] - ETA: 0s - loss: 2.0910\n",
      "Epoch 00018: loss improved from 2.12116 to 2.09102, saving model to weights-improvement-18-2.0910.hdf5\n",
      "144322/144322 [==============================] - 332s 2ms/step - loss: 2.0910\n",
      "Epoch 19/20\n",
      "144256/144322 [============================>.] - ETA: 0s - loss: 2.0571\n",
      "Epoch 00019: loss improved from 2.09102 to 2.05719, saving model to weights-improvement-19-2.0572.hdf5\n",
      "144322/144322 [==============================] - 330s 2ms/step - loss: 2.0572\n",
      "Epoch 20/20\n",
      "144256/144322 [============================>.] - ETA: 0s - loss: 2.0293\n",
      "Epoch 00020: loss improved from 2.05719 to 2.02925, saving model to weights-improvement-20-2.0293.hdf5\n",
      "144322/144322 [==============================] - 332s 2ms/step - loss: 2.0293\n"
     ]
    },
    {
     "data": {
      "text/plain": [
       "<tensorflow.python.keras.callbacks.History at 0x7fa24c770860>"
      ]
     },
     "execution_count": 11,
     "metadata": {
      "tags": []
     },
     "output_type": "execute_result"
    }
   ],
   "source": [
    "model.fit(X, y, epochs=20, batch_size=128, callbacks=callbacks_list)"
   ]
  },
  {
   "cell_type": "markdown",
   "metadata": {
    "colab_type": "text",
    "id": "p9wsCZod0P1F"
   },
   "source": [
    "Generating text using the trained LSTM network is relatively straightforward.\n",
    "\n",
    "Firstly, we load the data and define the network in exactly the same way, except the network weights are loaded from a checkpoint file and the network does not need to be trained."
   ]
  },
  {
   "cell_type": "code",
   "execution_count": 0,
   "metadata": {
    "colab": {},
    "colab_type": "code",
    "id": "ayzUk_Ek0T-F"
   },
   "outputs": [],
   "source": [
    "# load the network weights\n",
    "filename = \"weights-improvement-20-2.0293.hdf5\"\n",
    "model.load_weights(filename)\n",
    "model.compile(loss='categorical_crossentropy', optimizer='adam')"
   ]
  },
  {
   "cell_type": "markdown",
   "metadata": {
    "colab_type": "text",
    "id": "dp5HpXN50lXA"
   },
   "source": [
    "Also, when preparing the mapping of unique characters to integers, we must also create a reverse mapping that we can use to convert the integers back to characters so that we can understand the predictions."
   ]
  },
  {
   "cell_type": "code",
   "execution_count": 0,
   "metadata": {
    "colab": {},
    "colab_type": "code",
    "id": "TEHnBKDU0n1Q"
   },
   "outputs": [],
   "source": [
    "int_to_char = dict((i, c) for i, c in enumerate(chars))"
   ]
  },
  {
   "cell_type": "markdown",
   "metadata": {
    "colab_type": "text",
    "id": "zxipdJOD0sGk"
   },
   "source": [
    "Finally, we need to actually make predictions.\n",
    "\n",
    "The simplest way to use the Keras LSTM model to make predictions is to first start off with a seed sequence as input, generate the next character then update the seed sequence to add the generated character on the end and trim off the first character. This process is repeated for as long as we want to predict new characters (e.g. a sequence of 1,000 characters in length).\n",
    "\n",
    "We can pick a random input pattern as our seed sequence, then print generated characters as we generate them."
   ]
  },
  {
   "cell_type": "code",
   "execution_count": 19,
   "metadata": {
    "colab": {
     "base_uri": "https://localhost:8080/",
     "height": 329
    },
    "colab_type": "code",
    "id": "pF_XRMSQ0tDz",
    "outputId": "5022f870-c48d-4e7b-8938-496c7698cb76"
   },
   "outputs": [
    {
     "name": "stdout",
     "output_type": "stream",
     "text": [
      "Seed:\n",
      "\"  question is, what did the\n",
      "archbishop find?’\n",
      "\n",
      "the mouse did not notice this question, but hurriedly  \"\n",
      "dale an inr an on an anl aerlr the thet sas oo the tooee. and whet the was toenk to be a latge hare the was to the thet sase \n",
      "‘het it was alite the dorld she was oo the that sas an the was to all whrh the was oo the thate  the was soinking to the thet  and saed \n",
      "‘oth the soeee of the was oo the thieg taated the whrh the was to the thite rabd to the toiee \n",
      "‘he poue doon the mors of the saae the waaten the woide ’f\n",
      "thenk to tee the was of the taated thee, \n",
      "‘he toee lo the taad toen i shan?’ she match hare waid to the grrp,on an onself an anl aalind the was oo the saade. \n",
      "‘he toee lo the taid to toe kaseer ’ said the morke \n",
      "‘hr wou dnn toe was toene ano the waate  the murse oo the woide ’ou dane that i seould berner what i whon hore to the whit sase \n",
      "the was aolng the rabe to the whrt hn an ooce  and tasd to the cor of the courd, \n",
      "‘he iou dal toe mo the toin,’ said the maccit. ‘hn’s tee aetir a waiy oo the then the woide ’f\n",
      "theek to the whit iad \n",
      "and toe mo whet tae what she was toenk to \n",
      "Done.\n"
     ]
    }
   ],
   "source": [
    "# pick a random seed\n",
    "start = numpy.random.randint(0, len(dataX)-1)\n",
    "pattern = dataX[start]\n",
    "print (\"Seed:\")\n",
    "print( \"\\\"\", ''.join([int_to_char[value] for value in pattern]), \"\\\"\")\n",
    "# generate characters\n",
    "for i in range(1000):\n",
    "\tx = numpy.reshape(pattern, (1, len(pattern), 1))\n",
    "\tx = x / float(n_vocab)\n",
    "\tprediction = model.predict(x, verbose=0)\n",
    "\tindex = numpy.argmax(prediction)\n",
    "\tresult = int_to_char[index]\n",
    "\tseq_in = [int_to_char[value] for value in pattern]\n",
    "\tsys.stdout.write(result)\n",
    "\tpattern.append(index)\n",
    "\tpattern = pattern[1:len(pattern)]\n",
    "print (\"\\nDone.\")"
   ]
  }
 ],
 "metadata": {
  "accelerator": "GPU",
  "colab": {
   "collapsed_sections": [],
   "include_colab_link": true,
   "name": "characterPrediction.ipynb",
   "provenance": [],
   "version": "0.3.2"
  },
  "kernelspec": {
   "display_name": "Python 3",
   "language": "python",
   "name": "python3"
  },
  "language_info": {
   "codemirror_mode": {
    "name": "ipython",
    "version": 3
   },
   "file_extension": ".py",
   "mimetype": "text/x-python",
   "name": "python",
   "nbconvert_exporter": "python",
   "pygments_lexer": "ipython3",
   "version": "3.6.9"
  }
 },
 "nbformat": 4,
 "nbformat_minor": 1
}
